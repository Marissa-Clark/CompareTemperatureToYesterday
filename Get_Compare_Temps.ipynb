{
 "cells": [
  {
   "cell_type": "code",
   "execution_count": 1,
   "metadata": {
    "collapsed": false
   },
   "outputs": [],
   "source": [
    "import urllib3\n",
    "import json\n",
    "import requests\n",
    "import pandas as pd\n",
    "from ggplot import *\n",
    "import datetime\n",
    "import seaborn as sns\n",
    "\n",
    "import matplotlib.pyplot as plt\n",
    "import numpy as np\n",
    "\n",
    "from datetime import timedelta\n",
    "\n",
    "%matplotlib inline\n"
   ]
  },
  {
   "cell_type": "code",
   "execution_count": 2,
   "metadata": {
    "collapsed": false
   },
   "outputs": [
    {
     "name": "stdout",
     "output_type": "stream",
     "text": [
      "1\n",
      "{'response': {'version': '0.1', 'termsofService': 'http://www.wunderground.com/weather/api/d/terms.html', 'features': {'hourly': 1}, 'error': {'type': 'querynotfound', 'description': 'No cities match your search query'}}}\n",
      "http://api.wunderground.com/api/ffe387ffbb96e60e/history_20170801/q/CA/San_Francisco.json\n"
     ]
    }
   ],
   "source": [
    "apikey = open('api.txt').readlines()[0]\n",
    "\n",
    "state='CA'\n",
    "city='San_Francisco'\n",
    "\n",
    "\n",
    "forecast_URL='http://api.wunderground.com/api/' + apikey + '/hourly/q/' + state + '/' + city + '.json'\n",
    "yesterday_URL='http://api.wunderground.com/api/' + apikey + '/yesterday/q/' + state + '/' + city + '.json'\n",
    "today_URL='http://api.wunderground.com/api/' + apikey + '/history_' + datetime.date.today().strftime('%Y%m%d') + '/q/' + state + '/' + city + '.json'\n",
    "\n",
    "\n",
    "\n",
    "forecast_data = requests.get(forecast_URL).json()\n",
    "yesterday_data = requests.get(yesterday_URL).json()\n",
    "\n",
    "today_data = requests.get(today_URL).json()\n",
    "\n",
    "print(len(forecast_data))\n",
    "print(forecast_data)\n",
    "#print(yesterday_data)\n",
    "print(today_URL)"
   ]
  },
  {
   "cell_type": "code",
   "execution_count": null,
   "metadata": {
    "collapsed": false
   },
   "outputs": [],
   "source": [
    "current_day = int(datetime.date.today().strftime('%d'))\n",
    "yesterday_day = int((datetime.datetime.now() - timedelta(days=1)).strftime('%d'))\n",
    "current_hour = datetime.datetime.now().hour"
   ]
  },
  {
   "cell_type": "code",
   "execution_count": null,
   "metadata": {
    "collapsed": false,
    "scrolled": false
   },
   "outputs": [],
   "source": [
    "forecast = pd.DataFrame.from_dict(forecast_data['hourly_forecast'])\n",
    "\n",
    "#Convert Dictionary to Dataframe and grab only relevant columns\n",
    "forecast = forecast[['FCTTIME','temp']]\n",
    "forecast['hour'] = forecast.FCTTIME.apply(lambda x: x.get('hour'))\n",
    "forecast['day'] = forecast.FCTTIME.apply(lambda x: x.get('mday'))\n",
    "forecast['temp']= forecast.temp.apply(lambda x: x.get('english'))\n",
    "forecast.drop(['FCTTIME'], inplace=True, axis=1)\n",
    "\n",
    "#Get data for today\n",
    "now = datetime.datetime.now()\n",
    "forecast = forecast[forecast['day'] == str(now.day) ]\n",
    "forecast = forecast.apply(pd.to_numeric)\n",
    "\n",
    "#print((forecast['hour'] == 23).any())\n",
    "\n",
    "#for i in range(0,24):\n",
    "#    if (forecast['hour'] == i).any():\n",
    "#        forecast = forecast.append(pd.DataFrame({'hour': i, 'day': now.day, 'temp':0}, index=[0]), ignore_index=True)\n",
    "\n"
   ]
  },
  {
   "cell_type": "code",
   "execution_count": null,
   "metadata": {
    "collapsed": false
   },
   "outputs": [],
   "source": [
    "yesterday = yesterday_data['history']['observations']\n",
    "yesterday = pd.DataFrame.from_dict(yesterday)\n",
    "\n",
    "#Convert Dictionary to Dataframe and grab only relevant columns\n",
    "yesterday = yesterday[['date','tempi']]\n",
    "yesterday['hour'] = yesterday.date.apply(lambda x: x.get('hour'))\n",
    "yesterday['day'] = yesterday.date.apply(lambda x: x.get('mday'))\n",
    "yesterday['temp']= yesterday.tempi\n",
    "yesterday.drop(['date', 'tempi'], inplace=True, axis=1)\n",
    "\n",
    "#Remove missing data??\n",
    "yesterday = yesterday[yesterday.temp != '-9999']\n",
    "\n"
   ]
  },
  {
   "cell_type": "code",
   "execution_count": null,
   "metadata": {
    "collapsed": false
   },
   "outputs": [],
   "source": [
    "today = today_data['history']['observations']\n",
    "\n",
    "today = pd.DataFrame.from_dict(today)\n",
    "\n",
    "print(today)\n",
    "\n",
    "today = today[['date', 'tempi']]\n",
    "today['hour'] = today.date.apply(lambda x: x.get('hour'))\n",
    "today['day'] = today.date.apply(lambda x: x.get('mday'))\n",
    "today['temp']= today.tempi\n",
    "today.drop(['date', 'tempi'], inplace=True, axis=1)\n",
    "\n",
    "#Remove missing data??\n",
    "today = today[today.temp != '-9999']\n",
    "\n"
   ]
  },
  {
   "cell_type": "code",
   "execution_count": null,
   "metadata": {
    "collapsed": false,
    "scrolled": false
   },
   "outputs": [],
   "source": [
    "#Combine Data Frame\n",
    "alldata = [today, yesterday, forecast]\n",
    "alldata = pd.concat(alldata)\n",
    "\n",
    "alldata = alldata.apply(pd.to_numeric)\n",
    "alldata['subject'] = 0\n",
    "\n",
    "alldata = alldata.drop_duplicates(subset=['day', 'hour'])\n",
    "\n",
    "widedata = alldata.pivot(index='hour', columns='day', values='temp').reset_index()\n",
    "\n",
    "print(widedata)\n",
    "\n",
    "widedata['color'] = np.where(widedata[current_day] > widedata[yesterday_day], 'red', 'blue')\n",
    "widedata = widedata.interpolate()\n",
    "\n",
    "print(widedata)\n",
    "\n",
    "longdata=pd.melt(widedata, id_vars=['hour', 'color'], value_vars=[current_day,yesterday_day], value_name='temp')\n",
    "longdata.loc[longdata['day'] == yesterday_day, 'color'] = \"gray\"\n",
    "\n",
    "#for i in range(0, len(longdata.index)-1):\n",
    "#    if ((longdata.color[i] != longdata.color[i+1]) & (longdata.color[i] != \"gray\")):\n",
    "#        newrow=[longdata.hour[i+1], longdata.color[i], longdata.day[i], longdata.temp[i]]\n",
    "#        longdata = longdata.append(pd.Series(newrow, index = list(longdata)), ignore_index=True)\n"
   ]
  },
  {
   "cell_type": "code",
   "execution_count": null,
   "metadata": {
    "collapsed": false
   },
   "outputs": [],
   "source": [
    "print(longdata)\n"
   ]
  },
  {
   "cell_type": "code",
   "execution_count": null,
   "metadata": {
    "collapsed": false
   },
   "outputs": [],
   "source": [
    "#tempplot = sns.tsplot(data=alldata, time='hour', condition='day', value='temp', unit='subject')\n",
    "\n",
    "#plt.plot([current_hour, current_hour], [alldata.temp.min(), alldata.temp.max()] , linewidth=2, linestyle=\":\", color=\"gray\")"
   ]
  },
  {
   "cell_type": "code",
   "execution_count": null,
   "metadata": {
    "collapsed": false
   },
   "outputs": [],
   "source": []
  },
  {
   "cell_type": "code",
   "execution_count": null,
   "metadata": {
    "collapsed": false
   },
   "outputs": [],
   "source": [
    "grouped = longdata.groupby('color')\n",
    "fig, ax = plt.subplots(1)\n",
    "\n",
    "for key, group in grouped:\n",
    "   group.plot(ax=ax, x=\"hour\", y=\"temp\", color=key)\n",
    "\n",
    "\n",
    "longdata['subject'] = 0\n",
    "#tempplot = sns.tsplot(data=longdata, time='hour', condition='day', value='temp', unit='subject', hue='color')\n"
   ]
  },
  {
   "cell_type": "code",
   "execution_count": null,
   "metadata": {
    "collapsed": false
   },
   "outputs": [],
   "source": []
  },
  {
   "cell_type": "code",
   "execution_count": null,
   "metadata": {
    "collapsed": false
   },
   "outputs": [],
   "source": [
    "plt.style.use('seaborn-white')\n",
    "\n",
    "plt.rcParams['font.monospace'] = 'Ubuntu Mono'\n",
    "plt.rcParams['font.size'] = 10\n",
    "plt.rcParams['axes.labelsize'] = 10\n",
    "plt.rcParams['axes.labelweight'] = 'bold'\n",
    "plt.rcParams['axes.titlesize'] = 10\n",
    "plt.rcParams['xtick.labelsize'] = 8\n",
    "plt.rcParams['ytick.labelsize'] = 8\n",
    "plt.rcParams['legend.fontsize'] = 10\n",
    "plt.rcParams['figure.titlesize'] = 12\n",
    "\n",
    "\n",
    "# Set an aspect ratio\n",
    "width, height = plt.figaspect(.25)\n",
    "fig, ax = plt.subplots(figsize=(width,height), dpi=100)\n",
    "\n",
    "ax.plot(longdata.loc[longdata['day'] == current_day, 'hour'], longdata.loc[longdata['day'] == current_day, 'temp'], color=\"black\")\n",
    "ax.plot(longdata.loc[longdata['day'] == yesterday_day, 'hour'], longdata.loc[longdata['day'] == yesterday_day, 'temp'], color=\"gray\")\n",
    "\n",
    "ax.plot(longdata.loc[longdata['color'] == 'red', 'hour'], longdata.loc[longdata['color'] == 'red', 'temp'], 'ro')\n",
    "ax.plot(longdata.loc[longdata['color'] == 'blue', 'hour'], longdata.loc[longdata['color'] == 'blue', 'temp'], 'bp')\n",
    "\n",
    "\n",
    "plt.plot([current_hour, current_hour], [alldata.temp.min()-2, alldata.temp.max()+2] , linewidth=2, linestyle=\":\", color=\"gray\")\n",
    "plt.scatter(longdata.loc[longdata['color'] == 'blue', 'hour'], longdata.loc[longdata['color'] == 'blue', 'temp'], c=\"blue\")\n",
    "\n",
    "\n",
    "plt.xlabel('Time')\n",
    "plt.ylabel('Temperature')\n",
    "\n",
    "\n",
    "# Set the style globally\n",
    "# Alternatives include bmh, fivethirtyeight, ggplot,\n",
    "# dark_background, seaborn-deep, etc\n",
    "plt.style.use('seaborn-white')\n",
    "\n",
    "\n"
   ]
  },
  {
   "cell_type": "code",
   "execution_count": null,
   "metadata": {
    "collapsed": false
   },
   "outputs": [],
   "source": [
    "\n",
    "import matplotlib.pyplot as plt\n",
    "import numpy as np\n",
    "\n",
    "\n",
    "width, height = plt.figaspect(.35)\n",
    "fig, ax = plt.subplots(figsize=(width,height), dpi=100)\n",
    "\n",
    "\n",
    "ax.plot(longdata.loc[longdata['day'] == current_day, 'hour'], longdata.loc[longdata['day'] == current_day, 'temp'], color=\"black\")\n",
    "ax.plot(longdata.loc[longdata['day'] == yesterday_day, 'hour'], longdata.loc[longdata['day'] == yesterday_day, 'temp'], color=\"gray\", linewidth=0.5)\n",
    "\n",
    "                           \n",
    "\n",
    "\n",
    "#ax.plot(longdata.loc[longdata['color'] == 'red', 'hour'], longdata.loc[longdata['color'] == 'red', 'temp'],  '*', color='#c10100')\n",
    "#ax.plot(longdata.loc[longdata['color'] == 'blue', 'hour'], longdata.loc[longdata['color'] == 'blue', 'temp'],  '*', color='#90c6e4')\n",
    "\n",
    "ax.fill_between(longdata.loc[longdata['day'] == current_day, 'hour'], \\\n",
    "                longdata.loc[longdata['day'] == current_day, 'temp'], \\\n",
    "                min(longdata.loc[longdata['day'] == current_day, 'temp'].min(),longdata.loc[longdata['day'] == yesterday_day, 'temp'].min()), \\\n",
    "                where= longdata.loc[longdata['day'] == current_day, 'temp'].reset_index(drop=True) >0,\\\n",
    "                facecolor='#ededed', interpolate=True)\n",
    "\n",
    "\n",
    "ax.fill_between(longdata.loc[longdata['day'] == current_day, 'hour'], \\\n",
    "                longdata.loc[longdata['day'] == current_day, 'temp'], \\\n",
    "                longdata.loc[longdata['day'] == yesterday_day, 'temp'], \\\n",
    "                where= longdata.loc[longdata['day'] == current_day, 'temp'].reset_index(drop=True) > longdata.loc[longdata['day'] == yesterday_day, 'temp'].reset_index(drop=True),\\\n",
    "                facecolor='#e5c5c5', interpolate=True)\n",
    "\n",
    "ax.fill_between(longdata.loc[longdata['day'] == current_day, 'hour'], \\\n",
    "                longdata.loc[longdata['day'] == current_day, 'temp'], \\\n",
    "                longdata.loc[longdata['day'] == yesterday_day, 'temp'], \\\n",
    "                where= longdata.loc[longdata['day'] == current_day, 'temp'].reset_index(drop=True) < longdata.loc[longdata['day'] == yesterday_day, 'temp'].reset_index(drop=True),\\\n",
    "                facecolor='#c5d9e5', interpolate=True)\n",
    "\n",
    "\n",
    "#for i, txt in enumerate(longdata.loc[longdata.day == current_day, 'temp']):\n",
    "   # ax.annotate(str(int(txt))+'$^\\circ$', (longdata.hour[i]-.3,longdata.temp[i]+1))\n",
    "    \n",
    "plt.plot([current_hour, current_hour], [alldata.temp.min()-2, alldata.temp.max()+2] , linewidth=2, linestyle=\":\", color=\"gray\")\n",
    "plt.xlabel('Time')\n",
    "plt.ylabel('Temperature')\n",
    "plt.xticks(np.arange(0,24, 1.0));\n",
    "\n",
    "\n",
    "labels = [item.get_text() for item in ax.get_xticklabels()]\n",
    "labels = ['12 AM', '1 AM', '2 AM', '3 AM', '4 AM', '5 AM', '6 AM', '7 AM', '8 AM', '9 AM', '10 AM', '11 AM', '12 PM', '1 PM', '2 PM', '3 PM', '4 PM', '5 PM', '6 PM', '7 PM', '8 PM', '9 PM', '10 PM', '11 PM']\n",
    "ax.set_xticklabels(labels); \n"
   ]
  },
  {
   "cell_type": "code",
   "execution_count": null,
   "metadata": {
    "collapsed": true
   },
   "outputs": [],
   "source": []
  },
  {
   "cell_type": "code",
   "execution_count": null,
   "metadata": {
    "collapsed": true
   },
   "outputs": [],
   "source": []
  }
 ],
 "metadata": {
  "kernelspec": {
   "display_name": "Python 3",
   "language": "python",
   "name": "python3"
  },
  "language_info": {
   "codemirror_mode": {
    "name": "ipython",
    "version": 3
   },
   "file_extension": ".py",
   "mimetype": "text/x-python",
   "name": "python",
   "nbconvert_exporter": "python",
   "pygments_lexer": "ipython3",
   "version": "3.6.0"
  }
 },
 "nbformat": 4,
 "nbformat_minor": 2
}
